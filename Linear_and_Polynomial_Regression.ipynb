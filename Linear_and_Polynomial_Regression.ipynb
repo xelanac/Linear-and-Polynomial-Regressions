{
  "nbformat": 4,
  "nbformat_minor": 0,
  "metadata": {
    "colab": {
      "name": "Linear and Polynomial Regression.ipynb",
      "provenance": [],
      "collapsed_sections": [],
      "authorship_tag": "ABX9TyOjxCbXcxhjCu3wxuWYyfp6",
      "include_colab_link": true
    },
    "kernelspec": {
      "name": "python3",
      "display_name": "Python 3"
    }
  },
  "cells": [
    {
      "cell_type": "markdown",
      "metadata": {
        "id": "view-in-github",
        "colab_type": "text"
      },
      "source": [
        "<a href=\"https://colab.research.google.com/github/xelanac/Linear-and-Polynomial-Regressions/blob/main/Linear_and_Polynomial_Regression.ipynb\" target=\"_parent\"><img src=\"https://colab.research.google.com/assets/colab-badge.svg\" alt=\"Open In Colab\"/></a>"
      ]
    },
    {
      "cell_type": "markdown",
      "metadata": {
        "id": "fMS8wBPaA3P6"
      },
      "source": [
        "This simple code generates linear and polynomial regression for the same points, only to see how these algorithms work!"
      ]
    },
    {
      "cell_type": "markdown",
      "metadata": {
        "id": "H_ghVzVh6N-O"
      },
      "source": [
        "#Import the libraries"
      ]
    },
    {
      "cell_type": "code",
      "metadata": {
        "id": "i_5hpw0U5q2Q"
      },
      "source": [
        "import matplotlib.pyplot as plt\n",
        "import numpy\n",
        "import random\n",
        "from sklearn.metrics import r2_score\n",
        "from scipy import stats"
      ],
      "execution_count": null,
      "outputs": []
    },
    {
      "cell_type": "markdown",
      "metadata": {
        "id": "agVD44sc6GZE"
      },
      "source": [
        "#Generating random points"
      ]
    },
    {
      "cell_type": "code",
      "metadata": {
        "id": "BNTLzx6K6Ljl"
      },
      "source": [
        "n = 30 #number of points\n",
        "\n",
        "x = []\n",
        "y = []\n",
        "\n",
        "for _ in range(n):\n",
        "  rnd_num_x = random.randint(0,100)\n",
        "  rnd_num_y = random.randint(0,100)\n",
        "\n",
        "  x.append(rnd_num_x)\n",
        "  y.append(rnd_num_y)"
      ],
      "execution_count": null,
      "outputs": []
    },
    {
      "cell_type": "code",
      "metadata": {
        "colab": {
          "base_uri": "https://localhost:8080/"
        },
        "id": "eRKoHNli8Jjy",
        "outputId": "cac576aa-0107-4b3c-b84f-e0c71e01f610"
      },
      "source": [
        "print(\"x: \", x, \" Check x's length:\", len(x) , \"\\n\")\n",
        "print(\"y: \", y, \" Check y's length:\", len(y) , \"\\n\")"
      ],
      "execution_count": null,
      "outputs": [
        {
          "output_type": "stream",
          "text": [
            "x:  [82, 97, 4, 97, 53, 93, 22, 24, 74, 26, 32, 47, 23, 89, 53, 50, 38, 28, 54, 32, 81, 74, 66, 74, 65, 84, 44, 83, 100, 44]  Check x's length: 30 \n",
            "\n",
            "y:  [72, 9, 76, 55, 58, 65, 10, 47, 81, 70, 64, 3, 57, 0, 51, 6, 9, 58, 28, 83, 6, 28, 79, 38, 69, 4, 81, 76, 15, 94]  Check y's length: 30 \n",
            "\n"
          ],
          "name": "stdout"
        }
      ]
    },
    {
      "cell_type": "code",
      "metadata": {
        "colab": {
          "base_uri": "https://localhost:8080/",
          "height": 298
        },
        "id": "m8pFDEjfDWpl",
        "outputId": "573c8d66-4e10-40be-fd44-feac9392234b"
      },
      "source": [
        "plt.scatter(x,y)\n",
        "plt.title(\"Plot of points generated\")"
      ],
      "execution_count": null,
      "outputs": [
        {
          "output_type": "execute_result",
          "data": {
            "text/plain": [
              "Text(0.5, 1.0, 'Plot of points generated')"
            ]
          },
          "metadata": {
            "tags": []
          },
          "execution_count": 51
        },
        {
          "output_type": "display_data",
          "data": {
            "image/png": "[encoded data removed]",
            "text/plain": [
              "<Figure size 432x288 with 1 Axes>"
            ]
          },
          "metadata": {
            "tags": [],
            "needs_background": "light"
          }
        }
      ]
    },
    {
      "cell_type": "markdown",
      "metadata": {
        "id": "AyYNMkLtBX0h"
      },
      "source": [
        "#Linear Regression"
      ]
    },
    {
      "cell_type": "code",
      "metadata": {
        "colab": {
          "base_uri": "https://localhost:8080/",
          "height": 295
        },
        "id": "VXVGPAdrBXb3",
        "outputId": "4617f084-bc12-4b31-ec6a-b2f6ac268337"
      },
      "source": [
        "slope, intercept, r, p, std_err = stats.linregress(x, y)\n",
        "\n",
        "def correlation_x_y(x):\n",
        "  return slope * x + intercept\n",
        "\n",
        "linear = list(map(correlation_x_y, x))\n",
        "\n",
        "plt.scatter(x, y)\n",
        "plt.plot(x, linear)\n",
        "plt.xlabel(\"X\")\n",
        "plt.ylabel(\"Y\")\n",
        "plt.title(\"Linear Regression\")\n",
        "plt.show()"
      ],
      "execution_count": null,
      "outputs": [
        {
          "output_type": "display_data",
          "data": {
            "image/png": "[encoded data removed]",
            "text/plain": [
              "<Figure size 432x288 with 1 Axes>"
            ]
          },
          "metadata": {
            "tags": [],
            "needs_background": "light"
          }
        }
      ]
    },
    {
      "cell_type": "markdown",
      "metadata": {
        "id": "sMA6mB8GBaCj"
      },
      "source": [
        "#Polynomial Regression"
      ]
    },
    {
      "cell_type": "code",
      "metadata": {
        "colab": {
          "base_uri": "https://localhost:8080/",
          "height": 295
        },
        "id": "rUZKhSBz9OOA",
        "outputId": "89593955-d5d7-4262-f0e2-4ac8aba768a7"
      },
      "source": [
        "polinomial = numpy.poly1d(numpy.polyfit(x, y, 3))\n",
        "\n",
        "line = numpy.linspace(1, 100)\n",
        "\n",
        "plt.scatter(x, y)\n",
        "plt.plot(line, polinomial(line))\n",
        "plt.xlabel(\"X\")\n",
        "plt.ylabel(\"Y\")\n",
        "plt.title(\"Polynomial Regression\")\n",
        "plt.show()"
      ],
      "execution_count": null,
      "outputs": [
        {
          "output_type": "display_data",
          "data": {
            "image/png": "[encoded data removed]",
            "text/plain": [
              "<Figure size 432x288 with 1 Axes>"
            ]
          },
          "metadata": {
            "tags": [],
            "needs_background": "light"
          }
        }
      ]
    },
    {
      "cell_type": "markdown",
      "metadata": {
        "id": "eAH0Z-oC-yLi"
      },
      "source": [
        "#Check the relation between x-axis and y-axis\n",
        "The relationship is measured with a value called the r-squared.\n",
        "The r-squared value ranges from 0 to 1, where 0 means no relationship, and 1 means 100% related. Ff there are no relationship the polynomial regression can not be used to predict anything."
      ]
    },
    {
      "cell_type": "code",
      "metadata": {
        "colab": {
          "base_uri": "https://localhost:8080/"
        },
        "id": "FwAKRzG_-Rfe",
        "outputId": "2d080686-e772-42a9-8ddc-e3e82b903594"
      },
      "source": [
        "print(\"Linear: \", r)\n",
        "print(\"Polynomial: \", r2_score(y, polinomial(x)))\n",
        "\n",
        "#Summary: with random points the R-squared is usually really low, but there is still a relationship between x and y"
      ],
      "execution_count": null,
      "outputs": [
        {
          "output_type": "stream",
          "text": [
            "Linear:  -0.2595202755636631\n",
            "Polynomial:  0.09460784657913246\n"
          ],
          "name": "stdout"
        }
      ]
    }
  ]
}